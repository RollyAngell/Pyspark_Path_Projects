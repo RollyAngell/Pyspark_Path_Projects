{
 "cells": [
  {
   "cell_type": "markdown",
   "id": "7b50254c-337a-4003-b33f-0c086a342d94",
   "metadata": {},
   "source": [
    "### Módulo pyspark sql"
   ]
  },
  {
   "cell_type": "code",
   "execution_count": 2,
   "id": "d8360041-801a-40ae-975b-03e6eca63d5d",
   "metadata": {},
   "outputs": [
    {
     "name": "stderr",
     "output_type": "stream",
     "text": [
      "WARNING: An illegal reflective access operation has occurred\n",
      "WARNING: Illegal reflective access by org.apache.spark.unsafe.Platform (file:/opt/spark/jars/spark-unsafe_2.12-3.2.1.jar) to constructor java.nio.DirectByteBuffer(long,int)\n",
      "WARNING: Please consider reporting this to the maintainers of org.apache.spark.unsafe.Platform\n",
      "WARNING: Use --illegal-access=warn to enable warnings of further illegal reflective access operations\n",
      "WARNING: All illegal access operations will be denied in a future release\n",
      "Using Spark's default log4j profile: org/apache/spark/log4j-defaults.properties\n",
      "Setting default log level to \"WARN\".\n",
      "To adjust logging level use sc.setLogLevel(newLevel). For SparkR, use setLogLevel(newLevel).\n",
      "23/08/14 04:37:55 WARN NativeCodeLoader: Unable to load native-hadoop library for your platform... using builtin-java classes where applicable\n",
      "23/08/14 04:37:56 WARN Utils: Service 'SparkUI' could not bind on port 4040. Attempting port 4041.\n",
      "23/08/14 04:37:56 WARN Utils: Service 'SparkUI' could not bind on port 4041. Attempting port 4042.\n",
      "23/08/14 04:37:56 WARN Utils: Service 'SparkUI' could not bind on port 4042. Attempting port 4043.\n",
      "23/08/14 04:37:56 WARN Utils: Service 'SparkUI' could not bind on port 4043. Attempting port 4044.\n",
      "23/08/14 04:37:56 WARN Utils: Service 'SparkUI' could not bind on port 4044. Attempting port 4045.\n",
      "23/08/14 04:37:56 WARN Utils: Service 'SparkUI' could not bind on port 4045. Attempting port 4046.\n",
      "/opt/conda/lib/python3.8/site-packages/pyspark/sql/context.py:77: FutureWarning: Deprecated in 3.0.0. Use SparkSession.builder.getOrCreate() instead.\n",
      "  warnings.warn(\n"
     ]
    },
    {
     "name": "stdout",
     "output_type": "stream",
     "text": [
      "Version <pyspark.sql.context.SQLContext object at 0x7fa9a64133d0>\n"
     ]
    },
    {
     "name": "stderr",
     "output_type": "stream",
     "text": [
      "                                                                                \r"
     ]
    },
    {
     "data": {
      "text/plain": [
       "DataFrame[_id: string, apellidos: string, edad: bigint, email: string, nombre: string, nota: double]"
      ]
     },
     "execution_count": 2,
     "metadata": {},
     "output_type": "execute_result"
    }
   ],
   "source": [
    "from pyspark.sql import SparkSession\n",
    "from pyspark import SparkContext\n",
    "from pyspark.sql import SQLContext\n",
    "\n",
    "from pyspark.sql.types import *\n",
    "from pyspark.sql import functions\n",
    "\n",
    "spark= SparkSession.builder.appName(\"Leer un fichero json con Spark SQL\").enableHiveSupport().getOrCreate()\n",
    "\n",
    "sc = spark.sparkContext\n",
    "sqlCtx = SQLContext(sc)\n",
    "\n",
    "version =spark.version\n",
    "print('Version',sqlCtx)\n",
    "\n",
    "data = spark.read.json(\"estudiantes.json\")\n",
    "data"
   ]
  },
  {
   "cell_type": "code",
   "execution_count": 3,
   "id": "f8b40a6f-2bcb-417b-a5cf-7091b383f1ba",
   "metadata": {},
   "outputs": [
    {
     "data": {
      "text/plain": [
       "[Row(_id='33a624e7-e6f1-40b2-b812-7e39a2df1f5d', apellidos='Sebastian Garcia', edad=23, email='Valeria.Sebastian@yahoo.com', nombre='Valeria', nota=7.56),\n",
       " Row(_id='2cd47675-43f3-415c-bf18-c6cebaca70ab', apellidos='Sanchez Abascal', edad=23, email='Sanchez.Abascal@gmail.com', nombre='Emma', nota=8.16)]"
      ]
     },
     "execution_count": 3,
     "metadata": {},
     "output_type": "execute_result"
    }
   ],
   "source": [
    "data.take(2)"
   ]
  },
  {
   "cell_type": "code",
   "execution_count": 4,
   "id": "507bd672-40a4-49c3-8adb-1e934036db63",
   "metadata": {},
   "outputs": [
    {
     "data": {
      "text/plain": [
       "10000"
      ]
     },
     "execution_count": 4,
     "metadata": {},
     "output_type": "execute_result"
    }
   ],
   "source": [
    "data.count()"
   ]
  },
  {
   "cell_type": "code",
   "execution_count": 5,
   "id": "b39db797-8624-4923-8b51-528c0044f99a",
   "metadata": {},
   "outputs": [
    {
     "name": "stdout",
     "output_type": "stream",
     "text": [
      "+--------------------+-----------------+----+--------------------+--------+----+\n",
      "|                 _id|        apellidos|edad|               email|  nombre|nota|\n",
      "+--------------------+-----------------+----+--------------------+--------+----+\n",
      "|33a624e7-e6f1-40b...| Sebastian Garcia|  23|Valeria.Sebastian...| Valeria|7.56|\n",
      "|2cd47675-43f3-415...|  Sanchez Abascal|  23|Sanchez.Abascal@g...|    Emma|8.16|\n",
      "|594ea4e7-75e3-456...|    Sarabia Lopez|  20|Sarabia.Lopez@gma...| Agustin|8.22|\n",
      "|3b521244-d2d4-40b...|Corominas Sarabia|  25|MartinaySebastian...| Martina|7.67|\n",
      "|e6f52130-362f-4a5...|   Miranda Grande|  19|DavidyValeria@gma...|   David|7.45|\n",
      "|cee04454-f6ea-48b...|     Lopez Bernal|  20|Lopez.Bernal@outl...|    Laia|7.35|\n",
      "|6e5b75cd-0d5f-41f...|     Garcia Aznar|  22|MarcosySantiago@h...|  Marcos| 6.8|\n",
      "|47435195-80b1-473...|      Garcia Cruz|  18|Judith.Garcia@gma...|  Judith| 9.1|\n",
      "|fbdf66dc-49da-467...|    Seco Coronado|  21| IkerySara@gmail.com|    Iker|7.77|\n",
      "|0df69140-84ac-47d...|     Lopez Sastre|  22|Lopez.Sastre@hotm...|   Pablo| 7.9|\n",
      "|dbd1026a-b18f-450...|  Sarabia Gisbert|  19|Marcos1997@gmail.com|  Marcos| 7.8|\n",
      "|ee2568cb-93f8-44c...|   Blanes Miranda|  24|  Oriol1992@yahoo.es|   Oriol|7.39|\n",
      "|2f5239a1-05c0-454...|     Cuenca Lopez|  18|Marcos.Cuenca@yah...|  Marcos| 9.8|\n",
      "|40191301-f2b6-4aa...| Sastre Corominas|  23|Sandra.Sastre@gma...|  Sandra| 8.3|\n",
      "|eac69540-3a1d-4a3...|      Agudo Lopez|  22|LuciayTomas@outlo...|   Lucia|8.69|\n",
      "|1f58ebe4-9fc5-429...|   Garcia Sanchez|  29|MarcosyMario@gmai...|  Marcos| 8.8|\n",
      "|54d4a8d3-4cc1-4dc...|     Cruz Antunez|  24|EmmayJose@hotmail.es|    Emma|9.25|\n",
      "|33f54c17-2a1b-421...|Santander Pascual|  21|Santander.Pascual...|   Pedro|5.79|\n",
      "|971deb27-156d-4cd...|    Aznar Pascual|  21|Aznar.Pascual@idx...|Santiago| 8.6|\n",
      "|cb1244e2-63cf-4a7...|   Parada Pascual|  20|Juan.Parada@gmail...|    Juan| 8.3|\n",
      "+--------------------+-----------------+----+--------------------+--------+----+\n",
      "only showing top 20 rows\n",
      "\n"
     ]
    }
   ],
   "source": [
    "data.show()"
   ]
  },
  {
   "cell_type": "code",
   "execution_count": 6,
   "id": "fae955cb-bda5-4f3c-b3eb-51de78df4fa0",
   "metadata": {},
   "outputs": [
    {
     "name": "stdout",
     "output_type": "stream",
     "text": [
      "root\n",
      " |-- _id: string (nullable = true)\n",
      " |-- apellidos: string (nullable = true)\n",
      " |-- edad: long (nullable = true)\n",
      " |-- email: string (nullable = true)\n",
      " |-- nombre: string (nullable = true)\n",
      " |-- nota: double (nullable = true)\n",
      "\n"
     ]
    }
   ],
   "source": [
    "data.printSchema()"
   ]
  },
  {
   "cell_type": "code",
   "execution_count": 7,
   "id": "7a1d7097-ff12-439b-a652-41887d6c85c7",
   "metadata": {},
   "outputs": [
    {
     "name": "stdout",
     "output_type": "stream",
     "text": [
      "+--------+----------------+----+\n",
      "|  nombre|       apellidos|nota|\n",
      "+--------+----------------+----+\n",
      "|    Emma| Sanchez Abascal|8.16|\n",
      "| Agustin|   Sarabia Lopez|8.22|\n",
      "|  Judith|     Garcia Cruz| 9.1|\n",
      "|  Marcos|    Cuenca Lopez| 9.8|\n",
      "|  Sandra|Sastre Corominas| 8.3|\n",
      "|   Lucia|     Agudo Lopez|8.69|\n",
      "|  Marcos|  Garcia Sanchez| 8.8|\n",
      "|    Emma|    Cruz Antunez|9.25|\n",
      "|Santiago|   Aznar Pascual| 8.6|\n",
      "|    Juan|  Parada Pascual| 8.3|\n",
      "|   Mario|  Moliner Guerra|8.13|\n",
      "| Julieta|   Bermejo Gomez|8.17|\n",
      "|   Mauro|    Sanchez Seco|8.75|\n",
      "|    Sara|    Tous Sanchez|8.57|\n",
      "|   Irene|  Bernal Sanchez|8.03|\n",
      "| Natalia| Moliner Sanchez|8.25|\n",
      "| Dolores|   Lopez Antunez| 9.7|\n",
      "| Nicolas|Santander Sedano|9.26|\n",
      "|    Sara|   Aznar Abascal|8.94|\n",
      "|   Oriol|  Pascual Guerra|8.47|\n",
      "+--------+----------------+----+\n",
      "only showing top 20 rows\n",
      "\n"
     ]
    }
   ],
   "source": [
    "(data.filter(data['nombre'] != 'null')\n",
    "   .filter(data['nota'] > 8)\n",
    "   .select(['nombre', 'apellidos', 'nota'])\n",
    "   .show())"
   ]
  },
  {
   "cell_type": "code",
   "execution_count": 9,
   "id": "8fbb0343-40e4-4df1-9c89-16af8eb29b8a",
   "metadata": {},
   "outputs": [],
   "source": [
    "data.createOrReplaceTempView(\"estudiantes\")"
   ]
  },
  {
   "cell_type": "code",
   "execution_count": 12,
   "id": "0a4ea4d9-741e-4612-9607-79e8c3c9c957",
   "metadata": {},
   "outputs": [
    {
     "name": "stdout",
     "output_type": "stream",
     "text": [
      "+--------+----------------+----+\n",
      "|  nombre|       apellidos|nota|\n",
      "+--------+----------------+----+\n",
      "|    Emma| Sanchez Abascal|8.16|\n",
      "| Agustin|   Sarabia Lopez|8.22|\n",
      "|  Judith|     Garcia Cruz| 9.1|\n",
      "|  Marcos|    Cuenca Lopez| 9.8|\n",
      "|  Sandra|Sastre Corominas| 8.3|\n",
      "|   Lucia|     Agudo Lopez|8.69|\n",
      "|  Marcos|  Garcia Sanchez| 8.8|\n",
      "|    Emma|    Cruz Antunez|9.25|\n",
      "|Santiago|   Aznar Pascual| 8.6|\n",
      "|    Juan|  Parada Pascual| 8.3|\n",
      "|   Mario|  Moliner Guerra|8.13|\n",
      "| Julieta|   Bermejo Gomez|8.17|\n",
      "|   Mauro|    Sanchez Seco|8.75|\n",
      "|    Sara|    Tous Sanchez|8.57|\n",
      "|   Irene|  Bernal Sanchez|8.03|\n",
      "| Natalia| Moliner Sanchez|8.25|\n",
      "| Dolores|   Lopez Antunez| 9.7|\n",
      "| Nicolas|Santander Sedano|9.26|\n",
      "|    Sara|   Aznar Abascal|8.94|\n",
      "|   Oriol|  Pascual Guerra|8.47|\n",
      "+--------+----------------+----+\n",
      "only showing top 20 rows\n",
      "\n"
     ]
    }
   ],
   "source": [
    "spark.sql(\"\"\"\n",
    "    SELECT nombre,apellidos, nota \n",
    "    FROM estudiantes \n",
    "    WHERE nota >8\"\"\").show()"
   ]
  },
  {
   "cell_type": "code",
   "execution_count": 17,
   "id": "2837e666-f3c1-4654-af44-649dd04cd76f",
   "metadata": {},
   "outputs": [
    {
     "name": "stdout",
     "output_type": "stream",
     "text": [
      "+--------------------+-----------------+----+--------------------+--------+----+\n",
      "|                 _id|        apellidos|edad|               email|  nombre|nota|\n",
      "+--------------------+-----------------+----+--------------------+--------+----+\n",
      "|33a624e7-e6f1-40b...| Sebastian Garcia|  23|Valeria.Sebastian...| Valeria|7.56|\n",
      "|2cd47675-43f3-415...|  Sanchez Abascal|  23|Sanchez.Abascal@g...|    Emma|8.16|\n",
      "|594ea4e7-75e3-456...|    Sarabia Lopez|  20|Sarabia.Lopez@gma...| Agustin|8.22|\n",
      "|3b521244-d2d4-40b...|Corominas Sarabia|  25|MartinaySebastian...| Martina|7.67|\n",
      "|e6f52130-362f-4a5...|   Miranda Grande|  19|DavidyValeria@gma...|   David|7.45|\n",
      "|cee04454-f6ea-48b...|     Lopez Bernal|  20|Lopez.Bernal@outl...|    Laia|7.35|\n",
      "|6e5b75cd-0d5f-41f...|     Garcia Aznar|  22|MarcosySantiago@h...|  Marcos| 6.8|\n",
      "|47435195-80b1-473...|      Garcia Cruz|  18|Judith.Garcia@gma...|  Judith| 9.1|\n",
      "|fbdf66dc-49da-467...|    Seco Coronado|  21| IkerySara@gmail.com|    Iker|7.77|\n",
      "|0df69140-84ac-47d...|     Lopez Sastre|  22|Lopez.Sastre@hotm...|   Pablo| 7.9|\n",
      "|dbd1026a-b18f-450...|  Sarabia Gisbert|  19|Marcos1997@gmail.com|  Marcos| 7.8|\n",
      "|ee2568cb-93f8-44c...|   Blanes Miranda|  24|  Oriol1992@yahoo.es|   Oriol|7.39|\n",
      "|2f5239a1-05c0-454...|     Cuenca Lopez|  18|Marcos.Cuenca@yah...|  Marcos| 9.8|\n",
      "|40191301-f2b6-4aa...| Sastre Corominas|  23|Sandra.Sastre@gma...|  Sandra| 8.3|\n",
      "|eac69540-3a1d-4a3...|      Agudo Lopez|  22|LuciayTomas@outlo...|   Lucia|8.69|\n",
      "|1f58ebe4-9fc5-429...|   Garcia Sanchez|  29|MarcosyMario@gmai...|  Marcos| 8.8|\n",
      "|54d4a8d3-4cc1-4dc...|     Cruz Antunez|  24|EmmayJose@hotmail.es|    Emma|9.25|\n",
      "|33f54c17-2a1b-421...|Santander Pascual|  21|Santander.Pascual...|   Pedro|5.79|\n",
      "|971deb27-156d-4cd...|    Aznar Pascual|  21|Aznar.Pascual@idx...|Santiago| 8.6|\n",
      "|cb1244e2-63cf-4a7...|   Parada Pascual|  20|Juan.Parada@gmail...|    Juan| 8.3|\n",
      "+--------------------+-----------------+----+--------------------+--------+----+\n",
      "only showing top 20 rows\n",
      "\n"
     ]
    }
   ],
   "source": [
    "spark.sql(\"select * from estudiantes\").show()"
   ]
  },
  {
   "cell_type": "code",
   "execution_count": 18,
   "id": "1ca89825-c5b7-44d3-aeb6-e937ec8efad6",
   "metadata": {},
   "outputs": [
    {
     "data": {
      "text/plain": [
       "Row(_id='33a624e7-e6f1-40b2-b812-7e39a2df1f5d', apellidos='Sebastian Garcia', edad=23, email='Valeria.Sebastian@yahoo.com', nombre='Valeria', nota=7.56)"
      ]
     },
     "execution_count": 18,
     "metadata": {},
     "output_type": "execute_result"
    }
   ],
   "source": [
    "row = spark.sql(\"SELECT * FROM estudiantes\").first()\n",
    "row"
   ]
  },
  {
   "cell_type": "code",
   "execution_count": 19,
   "id": "3dcb5d42-d5d5-41f6-ab32-5680013e32bc",
   "metadata": {},
   "outputs": [
    {
     "data": {
      "text/plain": [
       "{'_id': '33a624e7-e6f1-40b2-b812-7e39a2df1f5d',\n",
       " 'apellidos': 'Sebastian Garcia',\n",
       " 'edad': 23,\n",
       " 'email': 'Valeria.Sebastian@yahoo.com',\n",
       " 'nombre': 'Valeria',\n",
       " 'nota': 7.56}"
      ]
     },
     "execution_count": 19,
     "metadata": {},
     "output_type": "execute_result"
    }
   ],
   "source": [
    "row.asDict()"
   ]
  }
 ],
 "metadata": {
  "kernelspec": {
   "display_name": "Python 3 (ipykernel)",
   "language": "python",
   "name": "python3"
  },
  "language_info": {
   "codemirror_mode": {
    "name": "ipython",
    "version": 3
   },
   "file_extension": ".py",
   "mimetype": "text/x-python",
   "name": "python",
   "nbconvert_exporter": "python",
   "pygments_lexer": "ipython3",
   "version": "3.8.13"
  }
 },
 "nbformat": 4,
 "nbformat_minor": 5
}
