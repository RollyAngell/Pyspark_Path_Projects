{
 "cells": [
  {
   "cell_type": "code",
   "execution_count": 1,
   "metadata": {
    "deletable": true,
    "editable": true
   },
   "outputs": [
    {
     "name": "stderr",
     "output_type": "stream",
     "text": [
      "WARNING: An illegal reflective access operation has occurred\n",
      "WARNING: Illegal reflective access by org.apache.spark.unsafe.Platform (file:/opt/spark/jars/spark-unsafe_2.12-3.2.1.jar) to constructor java.nio.DirectByteBuffer(long,int)\n",
      "WARNING: Please consider reporting this to the maintainers of org.apache.spark.unsafe.Platform\n",
      "WARNING: Use --illegal-access=warn to enable warnings of further illegal reflective access operations\n",
      "WARNING: All illegal access operations will be denied in a future release\n",
      "Using Spark's default log4j profile: org/apache/spark/log4j-defaults.properties\n",
      "Setting default log level to \"WARN\".\n",
      "To adjust logging level use sc.setLogLevel(newLevel). For SparkR, use setLogLevel(newLevel).\n",
      "23/08/14 04:24:45 WARN NativeCodeLoader: Unable to load native-hadoop library for your platform... using builtin-java classes where applicable\n",
      "23/08/14 04:24:46 WARN Utils: Service 'SparkUI' could not bind on port 4040. Attempting port 4041.\n",
      "23/08/14 04:24:46 WARN Utils: Service 'SparkUI' could not bind on port 4041. Attempting port 4042.\n",
      "23/08/14 04:24:46 WARN Utils: Service 'SparkUI' could not bind on port 4042. Attempting port 4043.\n",
      "23/08/14 04:24:46 WARN Utils: Service 'SparkUI' could not bind on port 4043. Attempting port 4044.\n",
      "23/08/14 04:24:46 WARN Utils: Service 'SparkUI' could not bind on port 4044. Attempting port 4045.\n"
     ]
    }
   ],
   "source": [
    "import json\n",
    "import sys\n",
    "import csv\n",
    "\n",
    "from pyspark.sql import SparkSession\n",
    "\n",
    "# Crear una sesión de Spark\n",
    "spark = SparkSession.builder.appName(\"file_json\").getOrCreate()\n",
    "\n",
    "# Ahora puedes acceder a 'sc' y otros métodos de Spark\n",
    "sc = spark.sparkContext"
   ]
  },
  {
   "cell_type": "markdown",
   "metadata": {
    "deletable": true,
    "editable": true
   },
   "source": [
    "### Módulo json"
   ]
  },
  {
   "cell_type": "code",
   "execution_count": 2,
   "metadata": {
    "collapsed": false,
    "deletable": true,
    "editable": true,
    "jupyter": {
     "outputs_hidden": false
    }
   },
   "outputs": [],
   "source": [
    "input = sc.textFile('estudiantes.json')"
   ]
  },
  {
   "cell_type": "code",
   "execution_count": 8,
   "metadata": {},
   "outputs": [
    {
     "data": {
      "text/plain": [
       "['{\"_id\":\"33a624e7-e6f1-40b2-b812-7e39a2df1f5d\",\"nombre\":\"Valeria\",\"apellidos\":\"Sebastian Garcia\",\"edad\":23,\"nota\":7.56,\"email\":\"Valeria.Sebastian@yahoo.com\"}',\n",
       " '{\"_id\":\"2cd47675-43f3-415c-bf18-c6cebaca70ab\",\"nombre\":\"Emma\",\"apellidos\":\"Sanchez Abascal\",\"edad\":23,\"nota\":8.16,\"email\":\"Sanchez.Abascal@gmail.com\"}']"
      ]
     },
     "execution_count": 8,
     "metadata": {},
     "output_type": "execute_result"
    }
   ],
   "source": [
    "input.take(2)"
   ]
  },
  {
   "cell_type": "code",
   "execution_count": 10,
   "metadata": {},
   "outputs": [
    {
     "data": {
      "text/plain": [
       "[{'_id': '33a624e7-e6f1-40b2-b812-7e39a2df1f5d',\n",
       "  'nombre': 'Valeria',\n",
       "  'apellidos': 'Sebastian Garcia',\n",
       "  'edad': 23,\n",
       "  'nota': 7.56,\n",
       "  'email': 'Valeria.Sebastian@yahoo.com'}]"
      ]
     },
     "execution_count": 10,
     "metadata": {},
     "output_type": "execute_result"
    }
   ],
   "source": [
    "data = input.map(lambda x: json.loads(x))\n",
    "data.take(1)"
   ]
  },
  {
   "cell_type": "code",
   "execution_count": 15,
   "metadata": {},
   "outputs": [
    {
     "data": {
      "text/plain": [
       "['{\"_id\": \"33a624e7-e6f1-40b2-b812-7e39a2df1f5d\", \"nombre\": \"Valeria\", \"apellidos\": \"Sebastian Garcia\", \"edad\": 23, \"nota\": 7.56, \"email\": \"Valeria.Sebastian@yahoo.com\"}',\n",
       " '{\"_id\": \"2cd47675-43f3-415c-bf18-c6cebaca70ab\", \"nombre\": \"Emma\", \"apellidos\": \"Sanchez Abascal\", \"edad\": 23, \"nota\": 8.16, \"email\": \"Sanchez.Abascal@gmail.com\"}']"
      ]
     },
     "execution_count": 15,
     "metadata": {},
     "output_type": "execute_result"
    }
   ],
   "source": [
    "result = data.map(lambda x: json.dumps(x))\n",
    "result.take(2)"
   ]
  },
  {
   "cell_type": "code",
   "execution_count": 14,
   "metadata": {
    "collapsed": false,
    "deletable": true,
    "editable": true,
    "jupyter": {
     "outputs_hidden": false
    }
   },
   "outputs": [
    {
     "data": {
      "text/plain": [
       "'{\"_id\": \"33a624e7-e6f1-40b2-b812-7e39a2df1f5d\", \"nombre\": \"Valeria\", \"apellidos\": \"Sebastian Garcia\", \"edad\": 23, \"nota\": 7.56, \"email\": \"Valeria.Sebastian@yahoo.com\"}'"
      ]
     },
     "execution_count": 14,
     "metadata": {},
     "output_type": "execute_result"
    }
   ],
   "source": [
    "result.first()"
   ]
  },
  {
   "cell_type": "code",
   "execution_count": 16,
   "metadata": {
    "collapsed": false,
    "deletable": true,
    "editable": true,
    "jupyter": {
     "outputs_hidden": false
    }
   },
   "outputs": [
    {
     "data": {
      "text/plain": [
       "10000"
      ]
     },
     "execution_count": 16,
     "metadata": {},
     "output_type": "execute_result"
    }
   ],
   "source": [
    "len(result.collect())"
   ]
  },
  {
   "cell_type": "code",
   "execution_count": 18,
   "metadata": {
    "collapsed": false,
    "deletable": true,
    "editable": true,
    "jupyter": {
     "outputs_hidden": false
    }
   },
   "outputs": [
    {
     "data": {
      "text/plain": [
       "['{\"_id\": \"33a624e7-e6f1-40b2-b812-7e39a2df1f5d\", \"nombre\": \"Valeria\", \"apellidos\": \"Sebastian Garcia\", \"edad\": 23, \"nota\": 7.56, \"email\": \"Valeria.Sebastian@yahoo.com\"}',\n",
       " '{\"_id\": \"2cd47675-43f3-415c-bf18-c6cebaca70ab\", \"nombre\": \"Emma\", \"apellidos\": \"Sanchez Abascal\", \"edad\": 23, \"nota\": 8.16, \"email\": \"Sanchez.Abascal@gmail.com\"}',\n",
       " '{\"_id\": \"594ea4e7-75e3-4569-8af6-2c9164cbe238\", \"nombre\": \"Agustin\", \"apellidos\": \"Sarabia Lopez\", \"edad\": 20, \"nota\": 8.22, \"email\": \"Sarabia.Lopez@gmail.com\"}',\n",
       " '{\"_id\": \"3b521244-d2d4-40ba-8be8-b969d6ce8c93\", \"nombre\": \"Martina\", \"apellidos\": \"Corominas Sarabia\", \"edad\": 25, \"nota\": 7.67, \"email\": \"MartinaySebastian@aol.com\"}',\n",
       " '{\"_id\": \"e6f52130-362f-4a57-b178-aa94353260e1\", \"nombre\": \"David\", \"apellidos\": \"Miranda Grande\", \"edad\": 19, \"nota\": 7.45, \"email\": \"DavidyValeria@gmail.com\"}',\n",
       " '{\"_id\": \"cee04454-f6ea-48b0-a33d-0325aeb0557e\", \"nombre\": \"Laia\", \"apellidos\": \"Lopez Bernal\", \"edad\": 20, \"nota\": 7.35, \"email\": \"Lopez.Bernal@outlook.com\"}',\n",
       " '{\"_id\": \"6e5b75cd-0d5f-41fc-a7dd-4621b161797f\", \"nombre\": \"Marcos\", \"apellidos\": \"Garcia Aznar\", \"edad\": 22, \"nota\": 6.8, \"email\": \"MarcosySantiago@hotmail.es\"}',\n",
       " '{\"_id\": \"47435195-80b1-473b-a3a3-47ecb5550424\", \"nombre\": \"Judith\", \"apellidos\": \"Garcia Cruz\", \"edad\": 18, \"nota\": 9.1, \"email\": \"Judith.Garcia@gmail.com\"}',\n",
       " '{\"_id\": \"fbdf66dc-49da-467f-8b2a-baaa20f45b76\", \"nombre\": \"Iker\", \"apellidos\": \"Seco Coronado\", \"edad\": 21, \"nota\": 7.77, \"email\": \"IkerySara@gmail.com\"}',\n",
       " '{\"_id\": \"0df69140-84ac-47d2-b0a9-134943e7575e\", \"nombre\": \"Pablo\", \"apellidos\": \"Lopez Sastre\", \"edad\": 22, \"nota\": 7.9, \"email\": \"Lopez.Sastre@hotmail.com\"}']"
      ]
     },
     "execution_count": 18,
     "metadata": {},
     "output_type": "execute_result"
    }
   ],
   "source": [
    "result.take(10)"
   ]
  }
 ],
 "metadata": {
  "kernelspec": {
   "display_name": "Python 3 (ipykernel)",
   "language": "python",
   "name": "python3"
  },
  "language_info": {
   "codemirror_mode": {
    "name": "ipython",
    "version": 3
   },
   "file_extension": ".py",
   "mimetype": "text/x-python",
   "name": "python",
   "nbconvert_exporter": "python",
   "pygments_lexer": "ipython3",
   "version": "3.8.13"
  }
 },
 "nbformat": 4,
 "nbformat_minor": 4
}
