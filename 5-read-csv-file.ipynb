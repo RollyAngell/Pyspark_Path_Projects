{
 "cells": [
  {
   "cell_type": "code",
   "execution_count": 22,
   "metadata": {},
   "outputs": [
    {
     "name": "stderr",
     "output_type": "stream",
     "text": [
      "23/08/14 04:23:19 WARN Utils: Service 'SparkUI' could not bind on port 4040. Attempting port 4041.\n",
      "23/08/14 04:23:19 WARN Utils: Service 'SparkUI' could not bind on port 4041. Attempting port 4042.\n",
      "23/08/14 04:23:19 WARN Utils: Service 'SparkUI' could not bind on port 4042. Attempting port 4043.\n",
      "23/08/14 04:23:19 WARN Utils: Service 'SparkUI' could not bind on port 4043. Attempting port 4044.\n"
     ]
    }
   ],
   "source": [
    "from pyspark.sql import SparkSession\n",
    "\n",
    "import csv\n",
    "\n",
    "# Crear una sesión de Spark\n",
    "spark = SparkSession.builder.appName(\"file_csv\").getOrCreate()\n",
    "\n",
    "# Ahora puedes acceder a 'sc' y otros métodos de Spark\n",
    "sc = spark.sparkContext"
   ]
  },
  {
   "cell_type": "code",
   "execution_count": 23,
   "metadata": {},
   "outputs": [
    {
     "name": "stdout",
     "output_type": "stream",
     "text": [
      "Parsed data:\n",
      "PythonRDD[3] at RDD at PythonRDD.scala:53\n",
      "Number of rows: 6323\n",
      "Collected data:\n"
     ]
    }
   ],
   "source": [
    "def parseLine(line):\n",
    "    dictReader = csv.DictReader([line], fieldnames=[\"code\", \"description\"])\n",
    "    return next(dictReader)\n",
    "\n",
    "data = sc.textFile(\"airports.csv\").zipWithIndex().filter(lambda x: x[1] > 0).map(lambda x: parseLine(x[0]))\n",
    "\n",
    "# Print the parsed data\n",
    "print(\"Parsed data:\")\n",
    "print(data)\n",
    "#data.foreach(print)\n",
    "\n",
    "# Count the number of rows\n",
    "print(\"Number of rows:\", data.count())\n",
    "\n",
    "# Collect and display the data\n",
    "print(\"Collected data:\")\n",
    "collected_data = data.collect()\n",
    "#for row in collected_data:\n",
    "#    print(row)"
   ]
  },
  {
   "cell_type": "code",
   "execution_count": 24,
   "metadata": {
    "collapsed": false,
    "deletable": true,
    "editable": true,
    "jupyter": {
     "outputs_hidden": false
    }
   },
   "outputs": [
    {
     "name": "stdout",
     "output_type": "stream",
     "text": [
      "{'code': '01A', 'description': 'Afognak Lake, AK: Afognak Lake Airport'}\n",
      "{'code': '03A', 'description': 'Granite Mountain, AK: Bear Creek Mining Strip'}\n",
      "{'code': '04A', 'description': 'Lik, AK: Lik Mining Camp'}\n",
      "{'code': '05A', 'description': 'Little Squaw, AK: Little Squaw Airport'}\n",
      "{'code': '06A', 'description': 'Kizhuyak, AK: Kizhuyak Bay'}\n",
      "{'code': '07A', 'description': 'Klawock, AK: Klawock Seaplane Base'}\n",
      "{'code': '08A', 'description': 'Elizabeth Island, AK: Elizabeth Island Airport'}\n",
      "{'code': '09A', 'description': 'Homer, AK: Augustin Island'}\n",
      "{'code': '1B1', 'description': 'Hudson, NY: Columbia County'}\n",
      "{'code': '1G4', 'description': 'Peach Springs, AZ: Grand Canyon West'}\n"
     ]
    }
   ],
   "source": [
    "for i in data.take(10):\n",
    "    print(i)"
   ]
  },
  {
   "cell_type": "code",
   "execution_count": 25,
   "metadata": {
    "collapsed": false,
    "deletable": true,
    "editable": true,
    "jupyter": {
     "outputs_hidden": false
    }
   },
   "outputs": [
    {
     "data": {
      "text/plain": [
       "['\"01A\",\"Afognak Lake, AK: Afognak Lake Airport\"']"
      ]
     },
     "execution_count": 25,
     "metadata": {},
     "output_type": "execute_result"
    }
   ],
   "source": [
    "rdd = sc.textFile('airports.csv')\n",
    "\n",
    "#aplicar filtro por codigo\n",
    "filtro = rdd.filter(lambda fila: '01A' in fila)\n",
    "filtro.collect()"
   ]
  },
  {
   "cell_type": "code",
   "execution_count": 26,
   "metadata": {},
   "outputs": [
    {
     "name": "stdout",
     "output_type": "stream",
     "text": [
      "Code,Description\n",
      "\"01A\",\"Afognak Lake, AK: Afognak Lake Airport\"\n",
      "\"03A\",\"Granite Mountain, AK: Bear Creek Mining Strip\"\n",
      "\"04A\",\"Lik, AK: Lik Mining Camp\"\n",
      "\"05A\",\"Little Squaw, AK: Little Squaw Airport\"\n",
      "\"06A\",\"Kizhuyak, AK: Kizhuyak Bay\"\n",
      "\"07A\",\"Klawock, AK: Klawock Seaplane Base\"\n",
      "\"08A\",\"Elizabeth Island, AK: Elizabeth Island Airport\"\n",
      "\"09A\",\"Homer, AK: Augustin Island\"\n",
      "\"1B1\",\"Hudson, NY: Columbia County\"\n"
     ]
    }
   ],
   "source": [
    "for i in rdd.take(10):\n",
    "    print(i)"
   ]
  },
  {
   "cell_type": "code",
   "execution_count": 27,
   "metadata": {
    "collapsed": false,
    "deletable": true,
    "editable": true,
    "jupyter": {
     "outputs_hidden": false
    }
   },
   "outputs": [
    {
     "data": {
      "text/plain": [
       "['\"05A\",\"Little Squaw, AK: Little Squaw Airport\"']"
      ]
     },
     "execution_count": 27,
     "metadata": {},
     "output_type": "execute_result"
    }
   ],
   "source": [
    "#aplicar filtro por descripcion\n",
    "filtro = rdd.filter(lambda fila: 'Squaw Airport' in fila)\n",
    "filtro.collect()"
   ]
  }
 ],
 "metadata": {
  "kernelspec": {
   "display_name": "Python 3 (ipykernel)",
   "language": "python",
   "name": "python3"
  },
  "language_info": {
   "codemirror_mode": {
    "name": "ipython",
    "version": 3
   },
   "file_extension": ".py",
   "mimetype": "text/x-python",
   "name": "python",
   "nbconvert_exporter": "python",
   "pygments_lexer": "ipython3",
   "version": "3.8.13"
  }
 },
 "nbformat": 4,
 "nbformat_minor": 4
}
