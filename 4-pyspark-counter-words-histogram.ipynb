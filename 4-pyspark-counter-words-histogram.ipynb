{
 "cells": [
  {
   "cell_type": "code",
   "execution_count": 1,
   "metadata": {},
   "outputs": [
    {
     "name": "stderr",
     "output_type": "stream",
     "text": [
      "WARNING: An illegal reflective access operation has occurred\n",
      "WARNING: Illegal reflective access by org.apache.spark.unsafe.Platform (file:/opt/spark/jars/spark-unsafe_2.12-3.2.1.jar) to constructor java.nio.DirectByteBuffer(long,int)\n",
      "WARNING: Please consider reporting this to the maintainers of org.apache.spark.unsafe.Platform\n",
      "WARNING: Use --illegal-access=warn to enable warnings of further illegal reflective access operations\n",
      "WARNING: All illegal access operations will be denied in a future release\n",
      "Using Spark's default log4j profile: org/apache/spark/log4j-defaults.properties\n",
      "Setting default log level to \"WARN\".\n",
      "To adjust logging level use sc.setLogLevel(newLevel). For SparkR, use setLogLevel(newLevel).\n",
      "23/08/14 03:06:31 WARN NativeCodeLoader: Unable to load native-hadoop library for your platform... using builtin-java classes where applicable\n",
      "23/08/14 03:06:32 WARN Utils: Service 'SparkUI' could not bind on port 4040. Attempting port 4041.\n",
      "23/08/14 03:06:32 WARN Utils: Service 'SparkUI' could not bind on port 4041. Attempting port 4042.\n",
      "23/08/14 03:06:32 WARN Utils: Service 'SparkUI' could not bind on port 4042. Attempting port 4043.\n"
     ]
    }
   ],
   "source": [
    "from pyspark.sql import SparkSession\n",
    "\n",
    "# Crear una sesión de Spark\n",
    "spark = SparkSession.builder.appName(\"MiApp\").getOrCreate()\n",
    "\n",
    "# Ahora puedes acceder a 'sc' y otros métodos de Spark\n",
    "sc = spark.sparkContext"
   ]
  },
  {
   "cell_type": "code",
   "execution_count": 2,
   "metadata": {
    "collapsed": false,
    "deletable": true,
    "editable": true,
    "jupyter": {
     "outputs_hidden": false
    }
   },
   "outputs": [
    {
     "data": {
      "text/html": [
       "\n",
       "        <div>\n",
       "            <p><b>SparkContext</b></p>\n",
       "\n",
       "            <p><a href=\"http://c83160e6fe71:4043\">Spark UI</a></p>\n",
       "\n",
       "            <dl>\n",
       "              <dt>Version</dt>\n",
       "                <dd><code>v3.2.1</code></dd>\n",
       "              <dt>Master</dt>\n",
       "                <dd><code>local[*]</code></dd>\n",
       "              <dt>AppName</dt>\n",
       "                <dd><code>MiApp</code></dd>\n",
       "            </dl>\n",
       "        </div>\n",
       "        "
      ],
      "text/plain": [
       "<SparkContext master=local[*] appName=MiApp>"
      ]
     },
     "execution_count": 2,
     "metadata": {},
     "output_type": "execute_result"
    }
   ],
   "source": [
    "#Obtenemos SparkContext que haya cargado correctamente\n",
    "sc"
   ]
  },
  {
   "cell_type": "code",
   "execution_count": 3,
   "metadata": {
    "collapsed": false,
    "deletable": true,
    "editable": true,
    "jupyter": {
     "outputs_hidden": false
    }
   },
   "outputs": [
    {
     "data": {
      "text/plain": [
       "'Apache Spark\\n-------------\\nApache Spark is a cluster computing platform designed to be fast and general purpose.\\nOn the speed side, Spark extends the popular MapReduce model to efficiently support more types of computations, including interactive queries and stream processing. Speed is important in processing large datasets, as it means the difference between exploring data interactively and waiting minutes or hours. One of the main features Spark offers for speed is the ability to run computati'"
      ]
     },
     "execution_count": 3,
     "metadata": {},
     "output_type": "execute_result"
    }
   ],
   "source": [
    "#leer fichero\n",
    "txt = 'about_spark.txt'\n",
    "open(txt, 'r').read()[:500]"
   ]
  },
  {
   "cell_type": "code",
   "execution_count": 4,
   "metadata": {
    "collapsed": false,
    "deletable": true,
    "editable": true,
    "jupyter": {
     "outputs_hidden": false
    }
   },
   "outputs": [
    {
     "data": {
      "text/plain": [
       "about_spark.txt MapPartitionsRDD[1] at textFile at NativeMethodAccessorImpl.java:0"
      ]
     },
     "execution_count": 4,
     "metadata": {},
     "output_type": "execute_result"
    }
   ],
   "source": [
    "#obtener lineas del fichero\n",
    "lines = sc.textFile(txt).cache()\n",
    "lines"
   ]
  },
  {
   "cell_type": "code",
   "execution_count": 5,
   "metadata": {
    "collapsed": false,
    "deletable": true,
    "editable": true,
    "jupyter": {
     "outputs_hidden": false
    }
   },
   "outputs": [
    {
     "name": "stderr",
     "output_type": "stream",
     "text": [
      "                                                                                \r"
     ]
    },
    {
     "data": {
      "text/plain": [
       "6"
      ]
     },
     "execution_count": 5,
     "metadata": {},
     "output_type": "execute_result"
    }
   ],
   "source": [
    "#obtener número de líneas\n",
    "lines.count()"
   ]
  },
  {
   "cell_type": "code",
   "execution_count": 7,
   "metadata": {
    "collapsed": false,
    "deletable": true,
    "editable": true,
    "jupyter": {
     "outputs_hidden": false
    }
   },
   "outputs": [
    {
     "data": {
      "text/plain": [
       "206"
      ]
     },
     "execution_count": 7,
     "metadata": {},
     "output_type": "execute_result"
    }
   ],
   "source": [
    "#obener palabras a través del separador cadena vacía\n",
    "lines.flatMap(lambda x: x.split(' ')).count()"
   ]
  },
  {
   "cell_type": "code",
   "execution_count": 8,
   "metadata": {
    "collapsed": false,
    "deletable": true,
    "editable": true,
    "jupyter": {
     "outputs_hidden": false
    }
   },
   "outputs": [
    {
     "data": {
      "text/plain": [
       "[('Apache', 1),\n",
       " ('Spark', 1),\n",
       " ('-------------', 1),\n",
       " ('Apache', 1),\n",
       " ('Spark', 1),\n",
       " ('is', 1),\n",
       " ('a', 1),\n",
       " ('cluster', 1),\n",
       " ('computing', 1),\n",
       " ('platform', 1),\n",
       " ('designed', 1),\n",
       " ('to', 1),\n",
       " ('be', 1),\n",
       " ('fast', 1),\n",
       " ('and', 1),\n",
       " ('general', 1),\n",
       " ('purpose.', 1),\n",
       " ('On', 1),\n",
       " ('the', 1),\n",
       " ('speed', 1)]"
      ]
     },
     "execution_count": 8,
     "metadata": {},
     "output_type": "execute_result"
    }
   ],
   "source": [
    "#por cada palabra encontrada se le asigna un 1\n",
    "words_count = lines.flatMap(lambda x: x.split(' ')).map(lambda x: (x, 1)).take(20)\n",
    "words_count"
   ]
  },
  {
   "cell_type": "markdown",
   "metadata": {
    "deletable": true,
    "editable": true
   },
   "source": [
    "### Palabras más frecuentes"
   ]
  },
  {
   "cell_type": "code",
   "execution_count": 9,
   "metadata": {
    "collapsed": false,
    "deletable": true,
    "editable": true,
    "jupyter": {
     "outputs_hidden": false
    }
   },
   "outputs": [
    {
     "data": {
      "text/plain": [
       "[('the', 9),\n",
       " ('Spark', 8),\n",
       " ('and', 8),\n",
       " ('is', 7),\n",
       " ('in', 6),\n",
       " ('to', 6),\n",
       " ('of', 4),\n",
       " ('designed', 3),\n",
       " ('including', 3),\n",
       " ('it', 3),\n",
       " ('data', 3),\n",
       " ('Apache', 2),\n",
       " ('speed', 2),\n",
       " ('MapReduce', 2),\n",
       " ('more', 2),\n",
       " ('run', 2),\n",
       " ('a', 2),\n",
       " ('be', 2),\n",
       " ('On', 2),\n",
       " ('side,', 2),\n",
       " ('interactive', 2),\n",
       " ('processing', 2),\n",
       " ('for', 2),\n",
       " ('also', 2),\n",
       " ('workloads', 2),\n",
       " ('separate', 2),\n",
       " ('In', 2),\n",
       " ('tools.', 2),\n",
       " ('Hadoop', 2),\n",
       " ('-------------', 1),\n",
       " ('platform', 1),\n",
       " ('purpose.', 1),\n",
       " ('extends', 1),\n",
       " ('model', 1),\n",
       " ('support', 1),\n",
       " ('computations,', 1),\n",
       " ('Speed', 1),\n",
       " ('large', 1),\n",
       " ('as', 1),\n",
       " ('means', 1),\n",
       " ('exploring', 1),\n",
       " ('interactively', 1),\n",
       " ('waiting', 1),\n",
       " ('minutes', 1),\n",
       " ('hours.', 1),\n",
       " ('One', 1),\n",
       " ('offers', 1),\n",
       " ('but', 1),\n",
       " ('than', 1),\n",
       " ('generality', 1),\n",
       " ('systems,', 1),\n",
       " ('applications,', 1),\n",
       " ('iterative', 1),\n",
       " ('queries,', 1),\n",
       " ('these', 1),\n",
       " ('engine,', 1),\n",
       " ('inexpensive', 1),\n",
       " ('combine', 1),\n",
       " ('different', 1),\n",
       " ('types,', 1),\n",
       " ('production', 1),\n",
       " ('pipelines.', 1),\n",
       " ('management', 1),\n",
       " ('maintaining', 1),\n",
       " ('offering', 1),\n",
       " ('simple', 1),\n",
       " ('APIs', 1),\n",
       " ('Java,', 1),\n",
       " ('Scala,', 1),\n",
       " ('SQL,', 1),\n",
       " ('It', 1),\n",
       " ('integrates', 1),\n",
       " ('closely', 1),\n",
       " ('other', 1),\n",
       " ('clusters', 1),\n",
       " ('cluster', 1),\n",
       " ('computing', 1),\n",
       " ('fast', 1),\n",
       " ('general', 1),\n",
       " ('popular', 1),\n",
       " ('efficiently', 1),\n",
       " ('types', 1),\n",
       " ('queries', 1),\n",
       " ('stream', 1),\n",
       " ('processing.', 1),\n",
       " ('important', 1),\n",
       " ('datasets,', 1),\n",
       " ('difference', 1),\n",
       " ('between', 1),\n",
       " ('or', 1),\n",
       " ('main', 1),\n",
       " ('features', 1),\n",
       " ('ability', 1),\n",
       " ('computations', 1),\n",
       " ('memory,', 1),\n",
       " ('system', 1),\n",
       " ('efficient', 1),\n",
       " ('complex', 1),\n",
       " ('applications', 1),\n",
       " ('running', 1),\n",
       " ('on', 1),\n",
       " ('disk.', 1),\n",
       " ('cover', 1),\n",
       " ('wide', 1),\n",
       " ('range', 1),\n",
       " ('that', 1),\n",
       " ('previously', 1),\n",
       " ('required', 1),\n",
       " ('distributed', 1),\n",
       " ('batch', 1),\n",
       " ('algorithms,', 1),\n",
       " ('streaming.', 1),\n",
       " ('By', 1),\n",
       " ('supporting', 1),\n",
       " ('same', 1),\n",
       " ('makes', 1),\n",
       " ('easy', 1),\n",
       " ('which', 1),\n",
       " ('often', 1),\n",
       " ('necessary', 1),\n",
       " ('analysis', 1),\n",
       " ('addition,', 1),\n",
       " ('reduces', 1),\n",
       " ('burden', 1),\n",
       " ('highly', 1),\n",
       " ('accessible,', 1),\n",
       " ('Python,', 1),\n",
       " ('rich', 1),\n",
       " ('built-in', 1),\n",
       " ('libraries.', 1),\n",
       " ('with', 1),\n",
       " ('Big', 1),\n",
       " ('Data', 1),\n",
       " ('particular,', 1),\n",
       " ('can', 1),\n",
       " ('access', 1),\n",
       " ('any', 1),\n",
       " ('source,', 1),\n",
       " ('Cassandra.', 1)]"
      ]
     },
     "execution_count": 9,
     "metadata": {},
     "output_type": "execute_result"
    }
   ],
   "source": [
    "from operator import add\n",
    "words_count = lines.flatMap(lambda x: x.split(' ')).map(lambda x: (x, 1))\n",
    "#aplicar operación reducebykey que para cada palabra sumará los 1 encontrados\n",
    "#ordenación de forma ascendente\n",
    "count_total = words_count.reduceByKey(add).sortBy(lambda x: x[1], ascending=False)\n",
    "count_total.collect()"
   ]
  },
  {
   "cell_type": "code",
   "execution_count": 11,
   "metadata": {
    "collapsed": false,
    "deletable": true,
    "editable": true,
    "jupyter": {
     "outputs_hidden": false
    }
   },
   "outputs": [
    {
     "name": "stdout",
     "output_type": "stream",
     "text": [
      "in: 9\n",
      "the: 9\n",
      "spark: 8\n",
      "and: 8\n",
      "is: 7\n",
      "to: 6\n",
      "of: 4\n",
      "it: 4\n",
      "data: 4\n",
      "designed: 3\n",
      "speed: 3\n",
      "on: 3\n",
      "including: 3\n",
      "processing: 3\n",
      "more: 2\n"
     ]
    }
   ],
   "source": [
    "import re\n",
    "\n",
    "data = sc.textFile(\"about_spark.txt\")\n",
    "palabras = (data\n",
    "            .flatMap(lambda linea: re.compile(\"\\W\").split(linea))\n",
    "            .filter(lambda palabra: palabra != '')\n",
    "            .map(lambda palabra: palabra.lower()))\n",
    "\n",
    "histograma = (palabras\n",
    "              .map(lambda palabra : (palabra,1))\n",
    "              .reduceByKey(lambda x,y: x+y))\n",
    "\n",
    "masFrecuentes = (histograma\n",
    "                 .sortBy(lambda v: -v[1]).take(15))\n",
    "\n",
    "for p in masFrecuentes:\n",
    "    print (p[0] + \": %d\" % p[1])"
   ]
  },
  {
   "cell_type": "markdown",
   "metadata": {
    "deletable": true,
    "editable": true
   },
   "source": [
    "### Crear histograma"
   ]
  },
  {
   "cell_type": "code",
   "execution_count": 12,
   "metadata": {
    "collapsed": false,
    "deletable": true,
    "editable": true,
    "jupyter": {
     "outputs_hidden": false
    }
   },
   "outputs": [
    {
     "name": "stdout",
     "output_type": "stream",
     "text": [
      "numbero de lineas: 6\n",
      "numero de caracteres: 1374\n"
     ]
    },
    {
     "data": {
      "text/plain": [
       "[(8, 'spark'),\n",
       " (4, 'data'),\n",
       " (3, 'designed'),\n",
       " (3, 'speed'),\n",
       " (3, 'including'),\n",
       " (3, 'processing'),\n",
       " (2, 'more'),\n",
       " (2, 'tools'),\n",
       " (2, 'hadoop'),\n",
       " (2, 'apache'),\n",
       " (2, 'side'),\n",
       " (2, 'mapreduce'),\n",
       " (2, 'types'),\n",
       " (2, 'computations'),\n",
       " (2, 'interactive'),\n",
       " (2, 'queries'),\n",
       " (2, 'also'),\n",
       " (2, 'applications'),\n",
       " (2, 'workloads'),\n",
       " (2, 'separate')]"
      ]
     },
     "execution_count": 12,
     "metadata": {},
     "output_type": "execute_result"
    }
   ],
   "source": [
    "# contar lineas del fichero\n",
    "print('numbero de lineas: %s' % data.count())\n",
    "\n",
    "# contar caracteres\n",
    "chars = data.map(lambda s: len(s)).reduce(add)\n",
    "print('numero de caracteres: %s' % chars)\n",
    "\n",
    "# obtener palabras\n",
    "palabras =data.flatMap(lambda line: re.split('\\W+', line.lower().strip()))\n",
    "\n",
    "# palabras que tegan más de 3 caracteres\n",
    "palabras = palabras.filter(lambda x: len(x) > 3)\n",
    "\n",
    "# establecer contador de cada palabra\n",
    "palabras = palabras.map(lambda w: (w,1))\n",
    "\n",
    "# fase reduce \n",
    "palabras = palabras.reduceByKey(add)\n",
    "\n",
    "# crear tupla (contador, palabra) ordenados de forma descendente\n",
    "palabras = palabras.map(lambda x: (x[1], x[0])).sortByKey(False)\n",
    "\n",
    "# obtener top de 20 palabras ordenadas por frecuencia\n",
    "palabras.take(20)"
   ]
  },
  {
   "cell_type": "code",
   "execution_count": 15,
   "metadata": {},
   "outputs": [
    {
     "name": "stdout",
     "output_type": "stream",
     "text": [
      "\u001b[33mWARNING: The directory '/home/sparkuser/.cache/pip' or its parent directory is not owned or is not writable by the current user. The cache has been disabled. Check the permissions and owner of that directory. If executing pip with sudo, you should use sudo's -H flag.\u001b[0m\u001b[33m\n",
      "\u001b[0mCollecting matplotlib\n",
      "  Downloading matplotlib-3.7.2-cp38-cp38-manylinux_2_12_x86_64.manylinux2010_x86_64.whl (9.2 MB)\n",
      "\u001b[2K     \u001b[90m━━━━━━━━━━━━━━━━━━━━━━━━━━━━━━━━━━━━━━━━\u001b[0m \u001b[32m9.2/9.2 MB\u001b[0m \u001b[31m92.1 kB/s\u001b[0m eta \u001b[36m0:00:00\u001b[0m00:01\u001b[0m00:03\u001b[0mm\n",
      "\u001b[?25hCollecting contourpy>=1.0.1 (from matplotlib)\n",
      "  Downloading contourpy-1.1.0-cp38-cp38-manylinux_2_17_x86_64.manylinux2014_x86_64.whl (300 kB)\n",
      "\u001b[2K     \u001b[90m━━━━━━━━━━━━━━━━━━━━━━━━━━━━━━━━━━━━━\u001b[0m \u001b[32m300.4/300.4 kB\u001b[0m \u001b[31m139.7 kB/s\u001b[0m eta \u001b[36m0:00:00\u001b[0ma \u001b[36m0:00:01\u001b[0m\n",
      "\u001b[?25hCollecting cycler>=0.10 (from matplotlib)\n",
      "  Downloading cycler-0.11.0-py3-none-any.whl (6.4 kB)\n",
      "Collecting fonttools>=4.22.0 (from matplotlib)\n",
      "  Downloading fonttools-4.42.0-cp38-cp38-manylinux_2_17_x86_64.manylinux2014_x86_64.whl (4.6 MB)\n",
      "\u001b[2K     \u001b[90m━━━━━━━━━━━━━━━━━━━━━━━━━━━━━━━━━━━━━━━━\u001b[0m \u001b[32m4.6/4.6 MB\u001b[0m \u001b[31m87.7 kB/s\u001b[0m eta \u001b[36m0:00:00\u001b[0m00:01\u001b[0m00:02\u001b[0mm\n",
      "\u001b[?25hCollecting kiwisolver>=1.0.1 (from matplotlib)\n",
      "  Downloading kiwisolver-1.4.4-cp38-cp38-manylinux_2_5_x86_64.manylinux1_x86_64.whl (1.2 MB)\n",
      "\u001b[2K     \u001b[90m━━━━━━━━━━━━━━━━━━━━━━━━━━━━━━━━━━━━━━━━\u001b[0m \u001b[32m1.2/1.2 MB\u001b[0m \u001b[31m140.8 kB/s\u001b[0m eta \u001b[36m0:00:00\u001b[0ma \u001b[36m0:00:01\u001b[0m\n",
      "\u001b[?25hRequirement already satisfied: numpy>=1.20 in /opt/conda/lib/python3.8/site-packages (from matplotlib) (1.24.3)\n",
      "Requirement already satisfied: packaging>=20.0 in /opt/conda/lib/python3.8/site-packages (from matplotlib) (23.1)\n",
      "Collecting pillow>=6.2.0 (from matplotlib)\n",
      "  Downloading Pillow-10.0.0-cp38-cp38-manylinux_2_28_x86_64.whl (3.4 MB)\n",
      "\u001b[2K     \u001b[90m━━━━━━━━━━━━━━━━━━━━━━━━━━━━━━━━━━━━━━━━\u001b[0m \u001b[32m3.4/3.4 MB\u001b[0m \u001b[31m110.8 kB/s\u001b[0m eta \u001b[36m0:00:00\u001b[0m00:01\u001b[0m00:02\u001b[0m\n",
      "\u001b[?25hCollecting pyparsing<3.1,>=2.3.1 (from matplotlib)\n",
      "  Downloading pyparsing-3.0.9-py3-none-any.whl (98 kB)\n",
      "\u001b[2K     \u001b[90m━━━━━━━━━━━━━━━━━━━━━━━━━━━━━━━━━━━━━━━\u001b[0m \u001b[32m98.3/98.3 kB\u001b[0m \u001b[31m613.1 kB/s\u001b[0m eta \u001b[36m0:00:00\u001b[0ma \u001b[36m0:00:01\u001b[0m\n",
      "\u001b[?25hRequirement already satisfied: python-dateutil>=2.7 in /opt/conda/lib/python3.8/site-packages (from matplotlib) (2.8.2)\n",
      "Requirement already satisfied: importlib-resources>=3.2.0 in /opt/conda/lib/python3.8/site-packages (from matplotlib) (5.12.0)\n",
      "Requirement already satisfied: zipp>=3.1.0 in /opt/conda/lib/python3.8/site-packages (from importlib-resources>=3.2.0->matplotlib) (3.15.0)\n",
      "Requirement already satisfied: six>=1.5 in /opt/conda/lib/python3.8/site-packages (from python-dateutil>=2.7->matplotlib) (1.16.0)\n",
      "Installing collected packages: pyparsing, pillow, kiwisolver, fonttools, cycler, contourpy, matplotlib\n",
      "Successfully installed contourpy-1.1.0 cycler-0.11.0 fonttools-4.42.0 kiwisolver-1.4.4 matplotlib-3.7.2 pillow-10.0.0 pyparsing-3.0.9\n",
      "\u001b[33mWARNING: Running pip as the 'root' user can result in broken permissions and conflicting behaviour with the system package manager. It is recommended to use a virtual environment instead: https://pip.pypa.io/warnings/venv\u001b[0m\u001b[33m\n",
      "\u001b[0m\n",
      "\u001b[1m[\u001b[0m\u001b[34;49mnotice\u001b[0m\u001b[1;39;49m]\u001b[0m\u001b[39;49m A new release of pip is available: \u001b[0m\u001b[31;49m23.1.2\u001b[0m\u001b[39;49m -> \u001b[0m\u001b[32;49m23.2.1\u001b[0m\n",
      "\u001b[1m[\u001b[0m\u001b[34;49mnotice\u001b[0m\u001b[1;39;49m]\u001b[0m\u001b[39;49m To update, run: \u001b[0m\u001b[32;49mpip install --upgrade pip\u001b[0m\n"
     ]
    }
   ],
   "source": [
    "!pip install matplotlib"
   ]
  },
  {
   "cell_type": "code",
   "execution_count": 16,
   "metadata": {
    "collapsed": false,
    "deletable": true,
    "editable": true,
    "jupyter": {
     "outputs_hidden": false
    }
   },
   "outputs": [
    {
     "ename": "TypeError",
     "evalue": "object of type 'map' has no len()",
     "output_type": "error",
     "traceback": [
      "\u001b[0;31m---------------------------------------------------------------------------\u001b[0m",
      "\u001b[0;31mTypeError\u001b[0m                                 Traceback (most recent call last)",
      "Cell \u001b[0;32mIn[16], line 17\u001b[0m\n\u001b[1;32m     14\u001b[0m palabras\u001b[38;5;241m.\u001b[39mtake(\u001b[38;5;241m25\u001b[39m)\n\u001b[1;32m     16\u001b[0m \u001b[38;5;66;03m# display histogram\u001b[39;00m\n\u001b[0;32m---> 17\u001b[0m \u001b[43mhistogram\u001b[49m\u001b[43m(\u001b[49m\u001b[43mpalabras\u001b[49m\u001b[38;5;241;43m.\u001b[39;49m\u001b[43mtake\u001b[49m\u001b[43m(\u001b[49m\u001b[38;5;241;43m25\u001b[39;49m\u001b[43m)\u001b[49m\u001b[43m)\u001b[49m\n\u001b[1;32m     19\u001b[0m \u001b[38;5;66;03m# words in one summarised statement\u001b[39;00m\n\u001b[1;32m     20\u001b[0m palabras \u001b[38;5;241m=\u001b[39m sc\u001b[38;5;241m.\u001b[39mtextFile(\u001b[38;5;124m'\u001b[39m\u001b[38;5;124mabout_spark.txt\u001b[39m\u001b[38;5;124m'\u001b[39m)\u001b[38;5;241m.\u001b[39mflatMap(\u001b[38;5;28;01mlambda\u001b[39;00m line: re\u001b[38;5;241m.\u001b[39msplit(\u001b[38;5;124m'\u001b[39m\u001b[38;5;124m\\\u001b[39m\u001b[38;5;124mW+\u001b[39m\u001b[38;5;124m'\u001b[39m, line\u001b[38;5;241m.\u001b[39mlower()\u001b[38;5;241m.\u001b[39mstrip()))\u001b[38;5;241m.\u001b[39mfilter(\u001b[38;5;28;01mlambda\u001b[39;00m x: \u001b[38;5;28mlen\u001b[39m(x) \u001b[38;5;241m>\u001b[39m \u001b[38;5;241m3\u001b[39m)\u001b[38;5;241m.\u001b[39mmap(\u001b[38;5;28;01mlambda\u001b[39;00m w: (w,\u001b[38;5;241m1\u001b[39m))\u001b[38;5;241m.\u001b[39mreduceByKey(add)\u001b[38;5;241m.\u001b[39mmap(\u001b[38;5;28;01mlambda\u001b[39;00m x: (x[\u001b[38;5;241m1\u001b[39m], x[\u001b[38;5;241m0\u001b[39m]))\u001b[38;5;241m.\u001b[39msortByKey(\u001b[38;5;28;01mFalse\u001b[39;00m)\n",
      "Cell \u001b[0;32mIn[16], line 9\u001b[0m, in \u001b[0;36mhistogram\u001b[0;34m(words)\u001b[0m\n\u001b[1;32m      7\u001b[0m count \u001b[38;5;241m=\u001b[39m \u001b[38;5;28mmap\u001b[39m(\u001b[38;5;28;01mlambda\u001b[39;00m x: x[\u001b[38;5;241m1\u001b[39m], words)\n\u001b[1;32m      8\u001b[0m word \u001b[38;5;241m=\u001b[39m \u001b[38;5;28mmap\u001b[39m(\u001b[38;5;28;01mlambda\u001b[39;00m x: x[\u001b[38;5;241m0\u001b[39m], words)\n\u001b[0;32m----> 9\u001b[0m plt\u001b[38;5;241m.\u001b[39mbarh(\u001b[38;5;28mrange\u001b[39m(\u001b[38;5;28;43mlen\u001b[39;49m\u001b[43m(\u001b[49m\u001b[43mcount\u001b[49m\u001b[43m)\u001b[49m), count,color \u001b[38;5;241m=\u001b[39m \u001b[38;5;124m'\u001b[39m\u001b[38;5;124mgrey\u001b[39m\u001b[38;5;124m'\u001b[39m)\n\u001b[1;32m     10\u001b[0m plt\u001b[38;5;241m.\u001b[39myticks(\u001b[38;5;28mrange\u001b[39m(\u001b[38;5;28mlen\u001b[39m(count)), word)\n",
      "\u001b[0;31mTypeError\u001b[0m: object of type 'map' has no len()"
     ]
    }
   ],
   "source": [
    "# crear histograma de palabras más frecuentes\n",
    "\n",
    "#% matplotlib inline\n",
    "import matplotlib.pyplot as plt\n",
    "\n",
    "def histogram(words):\n",
    "    count = map(lambda x: x[1], words)\n",
    "    word = map(lambda x: x[0], words)\n",
    "    plt.barh(range(len(count)), count,color = 'grey')\n",
    "    plt.yticks(range(len(count)), word)\n",
    "\n",
    "# Change order of tuple (word, count) from (count, word) \n",
    "palabras = palabras.map(lambda x:(x[1], x[0]))\n",
    "palabras.take(25)\n",
    "\n",
    "# display histogram\n",
    "histogram(palabras.take(25))\n",
    "\n",
    "# words in one summarised statement\n",
    "palabras = sc.textFile('about_spark.txt').flatMap(lambda line: re.split('\\W+', line.lower().strip())).filter(lambda x: len(x) > 3).map(lambda w: (w,1)).reduceByKey(add).map(lambda x: (x[1], x[0])).sortByKey(False)\n",
    "palabras.take(20)"
   ]
  },
  {
   "cell_type": "code",
   "execution_count": 17,
   "metadata": {},
   "outputs": [
    {
     "name": "stdout",
     "output_type": "stream",
     "text": [
      "[(8, 'spark'), (4, 'data'), (3, 'designed'), (3, 'speed'), (3, 'including'), (3, 'processing'), (2, 'more'), (2, 'tools'), (2, 'hadoop'), (2, 'apache'), (2, 'side'), (2, 'mapreduce'), (2, 'types'), (2, 'computations'), (2, 'interactive'), (2, 'queries'), (2, 'also'), (2, 'applications'), (2, 'workloads'), (2, 'separate')]\n"
     ]
    },
    {
     "data": {
      "image/png": "[encoded data removed]",
      "text/plain": [
       "<Figure size 640x480 with 1 Axes>"
      ]
     },
     "metadata": {},
     "output_type": "display_data"
    }
   ],
   "source": [
    "import re\n",
    "import matplotlib.pyplot as plt\n",
    "from operator import add\n",
    "\n",
    "# Define the histogram function\n",
    "def histogram(words):\n",
    "    count = list(map(lambda x: x[1], words))  # Convert map to list\n",
    "    word = list(map(lambda x: x[0], words))   # Convert map to list\n",
    "    plt.barh(range(len(count)), count, color='grey')\n",
    "    plt.yticks(range(len(count)), word)\n",
    "\n",
    "# Load and process the text file\n",
    "palabras = sc.textFile('about_spark.txt') \\\n",
    "             .flatMap(lambda line: re.split('\\W+', line.lower().strip())) \\\n",
    "             .filter(lambda x: len(x) > 3) \\\n",
    "             .map(lambda w: (w, 1)) \\\n",
    "             .reduceByKey(add) \\\n",
    "             .map(lambda x: (x[1], x[0])) \\\n",
    "             .sortByKey(False)\n",
    "\n",
    "# Display the top 20 most frequent words\n",
    "top_words = palabras.take(20)\n",
    "print(top_words)\n",
    "\n",
    "# Create and display the histogram\n",
    "histogram(top_words)\n"
   ]
  }
 ],
 "metadata": {
  "kernelspec": {
   "display_name": "Python 3 (ipykernel)",
   "language": "python",
   "name": "python3"
  },
  "language_info": {
   "codemirror_mode": {
    "name": "ipython",
    "version": 3
   },
   "file_extension": ".py",
   "mimetype": "text/x-python",
   "name": "python",
   "nbconvert_exporter": "python",
   "pygments_lexer": "ipython3",
   "version": "3.8.13"
  }
 },
 "nbformat": 4,
 "nbformat_minor": 4
}
